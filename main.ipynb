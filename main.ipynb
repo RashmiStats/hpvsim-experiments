{
 "cells": [
  {
   "cell_type": "code",
   "execution_count": 1,
   "metadata": {},
   "outputs": [
    {
     "name": "stdout",
     "output_type": "stream",
     "text": [
      "Sample HPV prevalence data saved as 'hpv_prevalence_data.csv'\n"
     ]
    }
   ],
   "source": [
    "import pandas as pd\n",
    "import numpy as np\n",
    "\n",
    "# Define sample data\n",
    "age_groups = ['10-14', '15-19', '20-24', '25-29', '30-34', '35-39', '40-44', '45-49', '50+']\n",
    "genders = ['Male', 'Female']\n",
    "regions = ['North', 'South', 'East', 'West']\n",
    "years = list(range(2015, 2024))\n",
    "\n",
    "# Generate sample data\n",
    "data = []\n",
    "np.random.seed(42)\n",
    "for age in age_groups:\n",
    "    for gender in genders:\n",
    "        for region in regions:\n",
    "            for year in years:\n",
    "                prevalence = round(np.random.uniform(1, 30), 2)  # Random prevalence percentage\n",
    "                data.append([age, prevalence, gender, region, year])\n",
    "\n",
    "# Create DataFrame\n",
    "df = pd.DataFrame(data, columns=['Age_Group', 'Prevalence_Percentage', 'Gender', 'Region', 'Year'])\n",
    "\n",
    "# Save to CSV\n",
    "df.to_csv('hpv_prevalence_data.csv', index=False)\n",
    "\n",
    "print(\"Sample HPV prevalence data saved as 'hpv_prevalence_data.csv'\")\n"
   ]
  },
  {
   "cell_type": "code",
   "execution_count": null,
   "metadata": {},
   "outputs": [],
   "source": []
  }
 ],
 "metadata": {
  "kernelspec": {
   "display_name": "Python 3",
   "language": "python",
   "name": "python3"
  },
  "language_info": {
   "codemirror_mode": {
    "name": "ipython",
    "version": 3
   },
   "file_extension": ".py",
   "mimetype": "text/x-python",
   "name": "python",
   "nbconvert_exporter": "python",
   "pygments_lexer": "ipython3",
   "version": "3.13.1"
  }
 },
 "nbformat": 4,
 "nbformat_minor": 2
}
